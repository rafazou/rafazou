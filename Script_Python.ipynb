{
  "nbformat": 4,
  "nbformat_minor": 0,
  "metadata": {
    "colab": {
      "provenance": [],
      "toc_visible": true,
      "authorship_tag": "ABX9TyNS/Wl4Ej44iWUo8xRBICOO",
      "include_colab_link": true
    },
    "kernelspec": {
      "name": "python3",
      "display_name": "Python 3"
    },
    "language_info": {
      "name": "python"
    }
  },
  "cells": [
    {
      "cell_type": "markdown",
      "metadata": {
        "id": "view-in-github",
        "colab_type": "text"
      },
      "source": [
        "<a href=\"https://colab.research.google.com/github/rafazou/rafazou/blob/main/Script_Python.ipynb\" target=\"_parent\"><img src=\"https://colab.research.google.com/assets/colab-badge.svg\" alt=\"Open In Colab\"/></a>"
      ]
    },
    {
      "cell_type": "markdown",
      "source": [
        "Inicio Básico\n",
        "\n",
        "print\n",
        "\n",
        "comentário\n",
        "\n",
        "\\n"
      ],
      "metadata": {
        "id": "zCWADBLJzM31"
      }
    },
    {
      "cell_type": "code",
      "source": [
        "print('Let´s Go')\n",
        "\n",
        "# Comentário\n",
        "'''\n",
        "Posso escrever qualquer coisa\n",
        "'''\n",
        "print('Olá mundão \\n Pula ai')\n"
      ],
      "metadata": {
        "colab": {
          "base_uri": "https://localhost:8080/"
        },
        "id": "B8SrFp52bagZ",
        "outputId": "23fa3104-f046-4b7c-89ea-652149f13a7b"
      },
      "execution_count": null,
      "outputs": [
        {
          "output_type": "stream",
          "name": "stdout",
          "text": [
            "Let´s Go\n",
            "Olá mundão \n",
            " Pula ai\n"
          ]
        }
      ]
    },
    {
      "cell_type": "markdown",
      "source": [
        "Operadores Matemáticos\n",
        "\n",
        "Soma: 1 + 3 = 4\n",
        "\n",
        "Subtração: 4 - 4 = 0\n",
        "\n",
        "Multiplicação: 4 * 4\n",
        "\n",
        "Divisão: 4 / 4 = 1,0"
      ],
      "metadata": {
        "id": "ORzlwDNnnB44"
      }
    },
    {
      "cell_type": "code",
      "source": [
        " #Operadores Matemáticos\n",
        " Exponenciação = 2 ** 3 #(2 x 2 x2)=8\n",
        " print(Exponenciação)\n",
        "\n",
        " #Resto da Divisão\n",
        " #3/4=0,75 para acessar o resto:\n",
        " resto = 3 % 4\n",
        " print(resto)\n",
        "\n",
        " #Divisão de Chão\n",
        " chao = 3 // 4\n",
        " print(chao)\n",
        "\n",
        " #priorização, tudo oque você quiser priorizar colocar ().\n",
        " #2 + 2 * 5 = 12\n",
        " #(2 + 2) * 5 = 20"
      ],
      "metadata": {
        "colab": {
          "base_uri": "https://localhost:8080/"
        },
        "id": "1yQkAoGAZ07T",
        "outputId": "6273d4a9-7c70-435a-c85d-0d44988ef92c"
      },
      "execution_count": null,
      "outputs": [
        {
          "output_type": "stream",
          "name": "stdout",
          "text": [
            "8\n",
            "3\n",
            "0\n"
          ]
        }
      ]
    },
    {
      "cell_type": "code",
      "source": [],
      "metadata": {
        "id": "h7snZ5-5StWt"
      },
      "execution_count": null,
      "outputs": []
    },
    {
      "cell_type": "markdown",
      "source": [
        "Variáveis"
      ],
      "metadata": {
        "id": "zl7hN0ZHx76_"
      }
    },
    {
      "cell_type": "code",
      "source": [
        "texto = str('a')\n",
        "numerico = int(200)\n",
        "flutuantes = float(10.5)\n",
        "\n",
        "#Booleans\n",
        "passou_cartao = True\n",
        "cartao_recusado = False"
      ],
      "metadata": {
        "id": "QI6lgpEbyCBf"
      },
      "execution_count": null,
      "outputs": []
    },
    {
      "cell_type": "markdown",
      "source": [
        "Tipos de Dados\n",
        "\n",
        "1. Listas - São criadas usando [ ] (Colchetes)\n",
        "2. Tuplas - São criadas usando () (Parenteses)\n",
        "3. Dicionários - São Criadas usando {} (Chaves)\n",
        "\n",
        "Esses dados podem receber qualquer tipo de informação, até operações aritméticas\n",
        "\n"
      ],
      "metadata": {
        "id": "OZZ69Jbj3J3V"
      }
    },
    {
      "cell_type": "code",
      "source": [
        "#Listas\n",
        "lista1 = [ 1, 2, 3]\n",
        "lista2 = [ 'nome', 'sobrenome', 'idade', 4, 5]\n",
        "lista3 = [ 1, 'Texto', True, [1, 2, 3]]\n",
        "print(lista1, lista2, lista3)"
      ],
      "metadata": {
        "colab": {
          "base_uri": "https://localhost:8080/"
        },
        "id": "i0hfAPEc4HFS",
        "outputId": "29b2b46b-99dc-439c-dc47-4498ff9eb166"
      },
      "execution_count": null,
      "outputs": [
        {
          "output_type": "stream",
          "name": "stdout",
          "text": [
            "[1, 2, 3] ['nome', 'sobrenome', 'idade', 4, 5] [1, 'Texto', True, [1, 2, 3]]\n"
          ]
        }
      ]
    },
    {
      "cell_type": "code",
      "source": [
        "#Tuplas !!!! são imutáveis\n",
        "Tupla_ex1 = ( 1, 2, 3)\n",
        "Tupla_ex2 = ( 'Texto', True, 1.90)\n",
        "\n",
        "Tupla_ex2, Tupla_ex1"
      ],
      "metadata": {
        "colab": {
          "base_uri": "https://localhost:8080/"
        },
        "id": "zedrsUyfC6bI",
        "outputId": "ffb81158-bf56-4daf-9243-9c555f18038c"
      },
      "execution_count": null,
      "outputs": [
        {
          "output_type": "execute_result",
          "data": {
            "text/plain": [
              "(('Texto', True, 1.9), (1, 2, 3))"
            ]
          },
          "metadata": {},
          "execution_count": 52
        }
      ]
    },
    {
      "cell_type": "code",
      "source": [
        "#Dicionários\n",
        "Dicionario = {\n",
        "    'Index' : 'Valor',\n",
        "    'Id': 1,\n",
        "    'Id': 2,\n",
        "    'Nome' : 'Rafael',\n",
        "    'Lista' : lista3\n",
        "}\n",
        "\n",
        "Dicionario"
      ],
      "metadata": {
        "colab": {
          "base_uri": "https://localhost:8080/"
        },
        "id": "7vlVJYK4EMTP",
        "outputId": "2962871c-fb16-455e-f226-18d1d5f1a83c"
      },
      "execution_count": null,
      "outputs": [
        {
          "output_type": "execute_result",
          "data": {
            "text/plain": [
              "{'Index': 'Valor',\n",
              " 'Id': 2,\n",
              " 'Nome': 'Rafael',\n",
              " 'Lista': [1, 'Texto', True, [1, 2, 3]]}"
            ]
          },
          "metadata": {},
          "execution_count": 62
        }
      ]
    },
    {
      "cell_type": "markdown",
      "source": [
        "Nomeação de variáveis\n",
        "\n",
        "1. Declarar as variáveis em uma única linha\n",
        "2. Atribuir um valor á diversas váriaveis\n",
        "3. Declarar usando uma lista\n",
        "4. Combinar váriaveis\n",
        "5. Operar com operadores matemáticos\n",
        "\n"
      ],
      "metadata": {
        "id": "31Cgu4h4owzt"
      }
    },
    {
      "cell_type": "code",
      "source": [
        "#Nomeando\n",
        "Morango, Uva, Abacaxi = 1, 2, 3\n",
        "print(Morango, Uva, Abacaxi)\n"
      ],
      "metadata": {
        "colab": {
          "base_uri": "https://localhost:8080/"
        },
        "id": "JbYlVwxKpq6-",
        "outputId": "dfb768ce-1c6a-400d-a336-d5c93c3053d3"
      },
      "execution_count": null,
      "outputs": [
        {
          "output_type": "stream",
          "name": "stdout",
          "text": [
            "1 2 3\n"
          ]
        }
      ]
    },
    {
      "cell_type": "code",
      "source": [
        "Morango = Uva = Abacaxi = 100\n",
        "print(Morango, Uva, Abacaxi)\n"
      ],
      "metadata": {
        "colab": {
          "base_uri": "https://localhost:8080/"
        },
        "id": "oF9o53ZQsC22",
        "outputId": "63002cbd-07b1-4fb4-810f-20e1873fd8e7"
      },
      "execution_count": null,
      "outputs": [
        {
          "output_type": "stream",
          "name": "stdout",
          "text": [
            "100 100 100\n"
          ]
        }
      ]
    },
    {
      "cell_type": "code",
      "source": [
        "#Nomear com lista\n",
        "Lista_Carros = ['Vw', 'Audi', 'Tesla']\n",
        "Carro1, Carro2, Carro3 = Lista_Carros\n",
        "print(Lista_Carros)\n",
        "print(Carro3)"
      ],
      "metadata": {
        "colab": {
          "base_uri": "https://localhost:8080/"
        },
        "id": "9P2_f649sgy0",
        "outputId": "8105dd87-39d3-4a52-a054-68dfeddb19a2"
      },
      "execution_count": null,
      "outputs": [
        {
          "output_type": "stream",
          "name": "stdout",
          "text": [
            "['Vw', 'Audi', 'Tesla']\n",
            "Tesla\n"
          ]
        }
      ]
    },
    {
      "cell_type": "code",
      "source": [
        "#Combinar Vári\n",
        "Nome ='Rafael'\n",
        "Sobrenome = 'Reis'\n",
        "Idade = str(20)\n",
        "\n",
        "Nome_Completo = Nome + ' ' + Sobrenome + ' ' + Idade + ' ' + 'anos'\n",
        "\n",
        "print(Nome_Completo)\n"
      ],
      "metadata": {
        "colab": {
          "base_uri": "https://localhost:8080/"
        },
        "id": "Fx0XteAsuNc2",
        "outputId": "f90e1b6f-1d18-4b06-a92e-0c15a93af55c"
      },
      "execution_count": null,
      "outputs": [
        {
          "output_type": "stream",
          "name": "stdout",
          "text": [
            "Rafael Reis 20 anos\n"
          ]
        }
      ]
    },
    {
      "cell_type": "code",
      "source": [
        "Investimento = 1000\n",
        "Taxa_Juros = float('0.2') #tem como deixar com parenteses e aspas se quiser ou não\n",
        "print(Investimento * Taxa_Juros)"
      ],
      "metadata": {
        "colab": {
          "base_uri": "https://localhost:8080/"
        },
        "id": "V1OnAR6txSCf",
        "outputId": "7b6d9c06-bbc7-4942-fc9b-70c7ee6a970b"
      },
      "execution_count": null,
      "outputs": [
        {
          "output_type": "execute_result",
          "data": {
            "text/plain": [
              "200.0"
            ]
          },
          "metadata": {},
          "execution_count": 19
        }
      ]
    },
    {
      "cell_type": "markdown",
      "source": [
        "Tipos de Informação\n",
        "1. Text type: *str*\n",
        "2. Numeric: *int, float, complex*\n",
        "3. Sequence: *list, tuple, range*\n",
        "4. Mapping: *dict*\n",
        "5. Set: *set, frozenset*\n",
        "6. Boolean: *bool*\n",
        "7. Binary: *bytes, bytearray, memoryview*\n",
        "8. Para verificar qual tipo é o dado: type()"
      ],
      "metadata": {
        "id": "PMcDCHrmzvKn"
      }
    },
    {
      "cell_type": "code",
      "source": [
        "String = str('Olá mundo')\n",
        "Inteiro = int(10)\n",
        "Flutuante = float(10.5)\n",
        "Complexo = complex(1j)\n",
        "Lista = list( ('Maça', 'Morango') )\n",
        "Tupla = tuple( ('A', 'B') )\n",
        "Range = range(6)\n",
        "Dicionario_ = dict(nome='Rafael', age=20)\n",
        "Set = set( ('A', 'B', 'C') )\n",
        "Fronzet = frozenset( ('A', 'B', 'C') )\n",
        "Booleano = bool(5)\n",
        "Bytes = bytes(5)\n",
        "ByteArray = bytearray(5)\n",
        "MemoryView = memoryview( bytes(5) )\n",
        "\n",
        "from datetime import datetime\n",
        "Data = datetime.today().date()"
      ],
      "metadata": {
        "id": "2bMeybJK32RT"
      },
      "execution_count": null,
      "outputs": []
    },
    {
      "cell_type": "markdown",
      "source": [
        "Comando Round\n",
        "\n",
        "Quando usamos números flutuantes podemos arredondar."
      ],
      "metadata": {
        "id": "iuo51oZdnNif"
      }
    },
    {
      "cell_type": "code",
      "source": [
        "#Comando round\n",
        "valor_ex = 12.33244132\n",
        "\n",
        "print(valor_ex)\n",
        "\n",
        "print(round( valor_ex, 2)) #é pra aparecer no terminal sem substituir um em cima do outro\n",
        "round( valor_ex )"
      ],
      "metadata": {
        "id": "5c3OzWf96-Ep",
        "colab": {
          "base_uri": "https://localhost:8080/"
        },
        "outputId": "80598b82-391f-4372-94a0-043fd6279c04"
      },
      "execution_count": null,
      "outputs": [
        {
          "output_type": "stream",
          "name": "stdout",
          "text": [
            "12.33244132\n",
            "12.33\n"
          ]
        },
        {
          "output_type": "execute_result",
          "data": {
            "text/plain": [
              "12"
            ]
          },
          "metadata": {},
          "execution_count": 5
        }
      ]
    },
    {
      "cell_type": "markdown",
      "source": [
        "Comando Len\n",
        "\n",
        "A função len() retorna elementos de qualquer lista em python"
      ],
      "metadata": {
        "id": "cCtWrwRopfNk"
      }
    },
    {
      "cell_type": "code",
      "source": [
        "lista = [1, 2, 3, 4, 5, 6, 7]\n",
        "dicionario = {'Nome':'Rafael', 'Idade':29}\n",
        "Tupla = (1, 2, 3)\n",
        "string = 'Olá Mundo'\n"
      ],
      "metadata": {
        "id": "mBi2tfxRpvlP"
      },
      "execution_count": null,
      "outputs": []
    },
    {
      "cell_type": "code",
      "source": [
        "print(len( lista ))\n",
        "print(len( dicionario ))\n",
        "print(len(Tupla))\n",
        "print(len(string))"
      ],
      "metadata": {
        "colab": {
          "base_uri": "https://localhost:8080/"
        },
        "id": "KbvohgXaqXp7",
        "outputId": "f8d2bb1f-e9bb-417a-a12b-35a27024dc21"
      },
      "execution_count": null,
      "outputs": [
        {
          "output_type": "stream",
          "name": "stdout",
          "text": [
            "7\n",
            "2\n",
            "3\n",
            "9\n"
          ]
        }
      ]
    },
    {
      "cell_type": "markdown",
      "source": [
        "Fatiamento de Strings\n",
        "\n",
        "Podemos acessar suas posições usando colchetes\n",
        "\n",
        "String [Posição inicial: Posição final]\n"
      ],
      "metadata": {
        "id": "RLatVA6qZy8s"
      }
    },
    {
      "cell_type": "code",
      "source": [
        "Minha_string = 'Aprender python é complicado'\n",
        "\n",
        "print(type(Minha_string))\n",
        "print(len(Minha_string))\n",
        "print(Minha_string[0])\n",
        "print(Minha_string[-1])\n",
        "\n",
        "#Se você quiser pegar do inicio até certo ponto\n",
        "Minha_string[0:8]\n"
      ],
      "metadata": {
        "colab": {
          "base_uri": "https://localhost:8080/",
          "height": 109
        },
        "id": "eAtOTmfJa_KT",
        "outputId": "64f53b5e-52dc-46b0-eb25-45aca756880c"
      },
      "execution_count": null,
      "outputs": [
        {
          "output_type": "stream",
          "name": "stdout",
          "text": [
            "<class 'str'>\n",
            "28\n",
            "A\n",
            "o\n"
          ]
        },
        {
          "output_type": "execute_result",
          "data": {
            "text/plain": [
              "'Aprender'"
            ],
            "application/vnd.google.colaboratory.intrinsic+json": {
              "type": "string"
            }
          },
          "metadata": {},
          "execution_count": 11
        }
      ]
    },
    {
      "cell_type": "code",
      "source": [
        "#Caso venha informações em um banco de dados bagunçado, acesse de trás para frente.\n",
        "CPF = 'Cpf:123456789'\n",
        "CPF[-9:]"
      ],
      "metadata": {
        "colab": {
          "base_uri": "https://localhost:8080/",
          "height": 36
        },
        "id": "Hy8UO4hWb0aw",
        "outputId": "08875e06-f3fe-4381-d767-65a59a7aafbb"
      },
      "execution_count": null,
      "outputs": [
        {
          "output_type": "execute_result",
          "data": {
            "text/plain": [
              "'123456789'"
            ],
            "application/vnd.google.colaboratory.intrinsic+json": {
              "type": "string"
            }
          },
          "metadata": {},
          "execution_count": 3
        }
      ]
    },
    {
      "cell_type": "markdown",
      "source": [
        "Manipulando String\n",
        "\n",
        "Algumas funções mais utilizadas:\n",
        "1. replace()\n",
        "2. startswith()\n",
        "3. endswith()\n",
        "4. count()\n",
        "5. capitalize()\n",
        "6. isdigit()\n",
        "7. isalnum()\n",
        "8. upper()\n",
        "9. lower()\n",
        "10. find()\n",
        "11. strip()\n",
        "12. split()"
      ],
      "metadata": {
        "id": "rLbUG1AUpsh-"
      }
    },
    {
      "cell_type": "code",
      "source": [
        "string = 'Rafael ama o Brasil'\n",
        "#replace é igual a substituir\n",
        "print(string.replace('Brasil', 'Japão'))\n",
        "\n",
        "#ou você quer fazer a extração\n",
        "cpf = 'CPF:123456789'\n",
        "\n",
        "int(cpf.replace('CPF:', ''))"
      ],
      "metadata": {
        "colab": {
          "base_uri": "https://localhost:8080/"
        },
        "id": "UlByQX81qskL",
        "outputId": "55171ce8-83dc-44c2-f833-06ae46a92f6a"
      },
      "execution_count": null,
      "outputs": [
        {
          "output_type": "stream",
          "name": "stdout",
          "text": [
            "Rafael ama o Japão\n"
          ]
        },
        {
          "output_type": "execute_result",
          "data": {
            "text/plain": [
              "123456789"
            ]
          },
          "metadata": {},
          "execution_count": 5
        }
      ]
    },
    {
      "cell_type": "code",
      "source": [
        "string = 'Rafael ama o Brasil'"
      ],
      "metadata": {
        "id": "QtyrWsjktCvD"
      },
      "execution_count": null,
      "outputs": []
    },
    {
      "cell_type": "code",
      "source": [
        "#startswith verifica se a string começa com certo valor\n",
        "string.startswith('Rafael')"
      ],
      "metadata": {
        "colab": {
          "base_uri": "https://localhost:8080/"
        },
        "id": "3uwjU-E1sS-O",
        "outputId": "ee9ad7df-bde0-4897-c461-2486ed07119c"
      },
      "execution_count": null,
      "outputs": [
        {
          "output_type": "execute_result",
          "data": {
            "text/plain": [
              "True"
            ]
          },
          "metadata": {},
          "execution_count": 6
        }
      ]
    },
    {
      "cell_type": "code",
      "source": [
        "#verifica o fim\n",
        "string.endswith('Japão')"
      ],
      "metadata": {
        "colab": {
          "base_uri": "https://localhost:8080/"
        },
        "id": "tw35Bc66tbSz",
        "outputId": "111e7ad1-7cff-4f43-b7cc-ea068ff4f913"
      },
      "execution_count": null,
      "outputs": [
        {
          "output_type": "execute_result",
          "data": {
            "text/plain": [
              "False"
            ]
          },
          "metadata": {},
          "execution_count": 7
        }
      ]
    },
    {
      "cell_type": "code",
      "source": [
        "#contar palavras ou letras\n",
        "string.count('a')"
      ],
      "metadata": {
        "colab": {
          "base_uri": "https://localhost:8080/"
        },
        "id": "ERW27yxXt5XB",
        "outputId": "3dfd12fb-bd81-40b9-a96c-ab90a1a9eb6e"
      },
      "execution_count": null,
      "outputs": [
        {
          "output_type": "execute_result",
          "data": {
            "text/plain": [
              "5"
            ]
          },
          "metadata": {},
          "execution_count": 12
        }
      ]
    },
    {
      "cell_type": "code",
      "source": [
        "#Transformação para letras maíusculas\n",
        "Nome = 'rafael'\n",
        "Nome.capitalize()\n"
      ],
      "metadata": {
        "colab": {
          "base_uri": "https://localhost:8080/",
          "height": 36
        },
        "id": "n5lbh3HLudM2",
        "outputId": "f9641a28-44b0-4816-8d0d-d1b82cdf527b"
      },
      "execution_count": null,
      "outputs": [
        {
          "output_type": "execute_result",
          "data": {
            "text/plain": [
              "'Rafael'"
            ],
            "application/vnd.google.colaboratory.intrinsic+json": {
              "type": "string"
            }
          },
          "metadata": {},
          "execution_count": 14
        }
      ]
    },
    {
      "cell_type": "code",
      "source": [
        "#Verificar se é str numérico\n",
        "string_cpf = '123456789abc'\n",
        "string_cpf.isdigit()"
      ],
      "metadata": {
        "colab": {
          "base_uri": "https://localhost:8080/"
        },
        "id": "flCpuNL1uyEI",
        "outputId": "68b77fe6-dd2b-42d4-909c-93e69af6a3f9"
      },
      "execution_count": null,
      "outputs": [
        {
          "output_type": "execute_result",
          "data": {
            "text/plain": [
              "False"
            ]
          },
          "metadata": {},
          "execution_count": 17
        }
      ]
    },
    {
      "cell_type": "code",
      "source": [
        "#verificar se é alfanumérica\n",
        "string.isalnum()"
      ],
      "metadata": {
        "colab": {
          "base_uri": "https://localhost:8080/"
        },
        "id": "dwUX3r7-vaQy",
        "outputId": "d4ebf428-799c-4f7e-8522-4ea0ec512698"
      },
      "execution_count": null,
      "outputs": [
        {
          "output_type": "execute_result",
          "data": {
            "text/plain": [
              "False"
            ]
          },
          "metadata": {},
          "execution_count": 20
        }
      ]
    },
    {
      "cell_type": "code",
      "source": [
        "#Deixar tudo maiúsculo\n",
        "Nome = 'rafael'\n",
        "Nome.upper()"
      ],
      "metadata": {
        "colab": {
          "base_uri": "https://localhost:8080/",
          "height": 36
        },
        "id": "MO6c8Kn81ikU",
        "outputId": "25792453-84b6-4b63-9bca-100c73c8a6d0"
      },
      "execution_count": null,
      "outputs": [
        {
          "output_type": "execute_result",
          "data": {
            "text/plain": [
              "'RAFAEL'"
            ],
            "application/vnd.google.colaboratory.intrinsic+json": {
              "type": "string"
            }
          },
          "metadata": {},
          "execution_count": 21
        }
      ]
    },
    {
      "cell_type": "code",
      "source": [
        "#Deixar tudo minúsculo\n",
        "Nome = 'RAFAEL'\n",
        "Nome.lower()"
      ],
      "metadata": {
        "colab": {
          "base_uri": "https://localhost:8080/",
          "height": 36
        },
        "id": "K7Sh3Xtn14ji",
        "outputId": "855e5b17-253e-4fd8-ce90-5e81861d7f1e"
      },
      "execution_count": null,
      "outputs": [
        {
          "output_type": "execute_result",
          "data": {
            "text/plain": [
              "'rafael'"
            ],
            "application/vnd.google.colaboratory.intrinsic+json": {
              "type": "string"
            }
          },
          "metadata": {},
          "execution_count": 22
        }
      ]
    },
    {
      "cell_type": "code",
      "source": [
        "#Encontrar alguma coisa em texto\n",
        "frase = 'Hoje está calor'\n",
        "frase.find('calor')"
      ],
      "metadata": {
        "colab": {
          "base_uri": "https://localhost:8080/"
        },
        "id": "4lhMWEtG2Pvp",
        "outputId": "9926f596-8da6-4cdd-a0ab-4043380b07ae"
      },
      "execution_count": null,
      "outputs": [
        {
          "output_type": "execute_result",
          "data": {
            "text/plain": [
              "10"
            ]
          },
          "metadata": {},
          "execution_count": 24
        }
      ]
    },
    {
      "cell_type": "code",
      "source": [
        "#Remover espaços\n",
        "endereco = ' R Augusto 120, MT '\n",
        "endereco"
      ],
      "metadata": {
        "colab": {
          "base_uri": "https://localhost:8080/",
          "height": 36
        },
        "id": "MOSXNP-i2r9w",
        "outputId": "9729c591-dc10-4118-c0ef-0b92ac31b714"
      },
      "execution_count": null,
      "outputs": [
        {
          "output_type": "execute_result",
          "data": {
            "text/plain": [
              "' R Augusto 120, MT '"
            ],
            "application/vnd.google.colaboratory.intrinsic+json": {
              "type": "string"
            }
          },
          "metadata": {},
          "execution_count": 27
        }
      ]
    },
    {
      "cell_type": "code",
      "source": [
        "endereco.strip()"
      ],
      "metadata": {
        "colab": {
          "base_uri": "https://localhost:8080/",
          "height": 36
        },
        "id": "1cNiNPmh3ToJ",
        "outputId": "287b9015-4904-48e5-fefa-81e8cd0964df"
      },
      "execution_count": null,
      "outputs": [
        {
          "output_type": "execute_result",
          "data": {
            "text/plain": [
              "'R Augusto 120, MT'"
            ],
            "application/vnd.google.colaboratory.intrinsic+json": {
              "type": "string"
            }
          },
          "metadata": {},
          "execution_count": 28
        }
      ]
    },
    {
      "cell_type": "code",
      "source": [
        "#split vai quebrar a string, vai separar conforme você pedir\n",
        "palavra = 'Rua Augusto 120, Centro, MT'\n",
        "print(palavra.split(','))\n",
        "print(palavra.split(' '))\n",
        "print(palavra.split('120'))"
      ],
      "metadata": {
        "colab": {
          "base_uri": "https://localhost:8080/"
        },
        "id": "wOQvmTsG3jvf",
        "outputId": "78d3a752-f1cc-4714-8d9e-a6ff3c8f0061"
      },
      "execution_count": null,
      "outputs": [
        {
          "output_type": "stream",
          "name": "stdout",
          "text": [
            "['Rua Augusto 120', ' Centro', ' MT']\n",
            "['Rua', 'Augusto', '120,', 'Centro,', 'MT']\n",
            "['Rua Augusto ', ', Centro, MT']\n"
          ]
        }
      ]
    },
    {
      "cell_type": "markdown",
      "source": [
        "Comando input\n",
        "\n",
        "Essa função recebe como paramêtro uma string que será mostrada como auxilio ao usuário, geralmente informando que tipo de dado o programa está esperando receber."
      ],
      "metadata": {
        "id": "0cTwqJS8XkMI"
      }
    },
    {
      "cell_type": "code",
      "source": [
        "# input\n",
        "input('digíte alguma mensagem')"
      ],
      "metadata": {
        "colab": {
          "base_uri": "https://localhost:8080/",
          "height": 54
        },
        "id": "QhPhLCT533BR",
        "outputId": "eb74cc1f-6cc9-481b-fb9b-5966910c06e0"
      },
      "execution_count": null,
      "outputs": [
        {
          "name": "stdout",
          "output_type": "stream",
          "text": [
            "digíte alguma mensagemalguma coisa\n"
          ]
        },
        {
          "output_type": "execute_result",
          "data": {
            "text/plain": [
              "'alguma coisa'"
            ],
            "application/vnd.google.colaboratory.intrinsic+json": {
              "type": "string"
            }
          },
          "metadata": {},
          "execution_count": 1
        }
      ]
    },
    {
      "cell_type": "code",
      "source": [
        "nome = input('Qual seu nome?: ')\n",
        "idade = input('Qual sua idade?: ')\n",
        "\n",
        "print('Seu nome é:', nome)\n",
        "print('Sua idade é:', idade)"
      ],
      "metadata": {
        "colab": {
          "base_uri": "https://localhost:8080/"
        },
        "id": "ltW86ag34G62",
        "outputId": "50211f91-adda-4528-ab0f-4c160d216f1d"
      },
      "execution_count": null,
      "outputs": [
        {
          "output_type": "stream",
          "name": "stdout",
          "text": [
            "Qual seu nome?: Rafael\n",
            "Qual sua idade?: 20\n",
            "Seu nome é: Rafael\n",
            "Sua idade é: 20\n"
          ]
        }
      ]
    },
    {
      "cell_type": "markdown",
      "source": [
        "Operadores de comparação\n",
        "1. '=='(igual a)\n",
        "2. '!='(diferente)\n",
        "3. '>'(maior)\n",
        "4. '<'(menor)\n",
        "5. '>='(maior ou igual)\n",
        "6. '<='(menor ou igual)"
      ],
      "metadata": {
        "id": "6a-1UGYX66W0"
      }
    },
    {
      "cell_type": "code",
      "source": [
        "10 == 10"
      ],
      "metadata": {
        "colab": {
          "base_uri": "https://localhost:8080/"
        },
        "id": "O2HczI7x7jwo",
        "outputId": "b6eee723-598c-4886-92b6-a4433c225c1a"
      },
      "execution_count": null,
      "outputs": [
        {
          "output_type": "execute_result",
          "data": {
            "text/plain": [
              "True"
            ]
          },
          "metadata": {},
          "execution_count": 4
        }
      ]
    },
    {
      "cell_type": "code",
      "source": [
        "10 != 8"
      ],
      "metadata": {
        "colab": {
          "base_uri": "https://localhost:8080/"
        },
        "id": "1-NssKmw7q8y",
        "outputId": "d31763f0-f8ef-4ada-af22-3fafcbe28438"
      },
      "execution_count": null,
      "outputs": [
        {
          "output_type": "execute_result",
          "data": {
            "text/plain": [
              "True"
            ]
          },
          "metadata": {},
          "execution_count": 5
        }
      ]
    },
    {
      "cell_type": "code",
      "source": [
        "10 != 10"
      ],
      "metadata": {
        "colab": {
          "base_uri": "https://localhost:8080/"
        },
        "id": "cXaMAEYO7xPt",
        "outputId": "14020b12-7178-45db-e984-a423b7be7f3c"
      },
      "execution_count": null,
      "outputs": [
        {
          "output_type": "execute_result",
          "data": {
            "text/plain": [
              "False"
            ]
          },
          "metadata": {},
          "execution_count": 6
        }
      ]
    },
    {
      "cell_type": "code",
      "source": [
        "10 > 9"
      ],
      "metadata": {
        "colab": {
          "base_uri": "https://localhost:8080/"
        },
        "id": "16WbYa7V8ob1",
        "outputId": "b228563a-002d-4152-edbb-c1f8f650db4b"
      },
      "execution_count": null,
      "outputs": [
        {
          "output_type": "execute_result",
          "data": {
            "text/plain": [
              "True"
            ]
          },
          "metadata": {},
          "execution_count": 7
        }
      ]
    },
    {
      "cell_type": "code",
      "source": [
        "10 < 11"
      ],
      "metadata": {
        "colab": {
          "base_uri": "https://localhost:8080/"
        },
        "id": "JQmJqxUM8rxO",
        "outputId": "ad36a3c2-38bf-4b7c-9e74-ad023d0483e6"
      },
      "execution_count": null,
      "outputs": [
        {
          "output_type": "execute_result",
          "data": {
            "text/plain": [
              "True"
            ]
          },
          "metadata": {},
          "execution_count": 9
        }
      ]
    },
    {
      "cell_type": "code",
      "source": [
        "10 >= 10"
      ],
      "metadata": {
        "colab": {
          "base_uri": "https://localhost:8080/"
        },
        "id": "ualJ-5AC86q1",
        "outputId": "b18ea8c2-70bf-42fb-be48-615dd2791cf5"
      },
      "execution_count": null,
      "outputs": [
        {
          "output_type": "execute_result",
          "data": {
            "text/plain": [
              "True"
            ]
          },
          "metadata": {},
          "execution_count": 10
        }
      ]
    },
    {
      "cell_type": "code",
      "source": [
        "10 <= 11"
      ],
      "metadata": {
        "id": "hrdJ_Cj-894l",
        "outputId": "07ca13d1-f113-4449-b8fb-37361b35f940",
        "colab": {
          "base_uri": "https://localhost:8080/"
        }
      },
      "execution_count": null,
      "outputs": [
        {
          "output_type": "execute_result",
          "data": {
            "text/plain": [
              "True"
            ]
          },
          "metadata": {},
          "execution_count": 11
        }
      ]
    },
    {
      "cell_type": "markdown",
      "source": [
        "Operadores lógicos\n",
        "\n",
        "são usados para combinar instruções condicionais:\n",
        "\n",
        "1. and (retorna true se ambas as declarações forem verdades)\n",
        "2. or (retorna true se uma das declarações for verdadeira)\n",
        "3. not (inverte o resultado, retorna false se o resultado for verdadeiro)"
      ],
      "metadata": {
        "id": "PJEet0HG0UPk"
      }
    },
    {
      "cell_type": "code",
      "source": [
        "10 > 2 and 10 > 3"
      ],
      "metadata": {
        "colab": {
          "base_uri": "https://localhost:8080/"
        },
        "id": "-7E-7JdR2DnJ",
        "outputId": "4fa719f6-3eb3-40ce-90fb-c992e6e1d305"
      },
      "execution_count": 1,
      "outputs": [
        {
          "output_type": "execute_result",
          "data": {
            "text/plain": [
              "True"
            ]
          },
          "metadata": {},
          "execution_count": 1
        }
      ]
    },
    {
      "cell_type": "code",
      "source": [
        "10 > 2 and 10 > 20"
      ],
      "metadata": {
        "colab": {
          "base_uri": "https://localhost:8080/"
        },
        "id": "PnE6DUf_2WmG",
        "outputId": "e5d6f821-4fe3-4cce-ed45-43603053628a"
      },
      "execution_count": 5,
      "outputs": [
        {
          "output_type": "execute_result",
          "data": {
            "text/plain": [
              "False"
            ]
          },
          "metadata": {},
          "execution_count": 5
        }
      ]
    },
    {
      "cell_type": "code",
      "source": [
        "10 > 2 or 10 > 20"
      ],
      "metadata": {
        "colab": {
          "base_uri": "https://localhost:8080/"
        },
        "id": "J-RUDHn92mOE",
        "outputId": "12249bb3-28d4-472a-8b62-1a5cc867a3b9"
      },
      "execution_count": 4,
      "outputs": [
        {
          "output_type": "execute_result",
          "data": {
            "text/plain": [
              "True"
            ]
          },
          "metadata": {},
          "execution_count": 4
        }
      ]
    },
    {
      "cell_type": "code",
      "source": [
        "lista = [ 1, 2 , 3]\n",
        "4 in lista"
      ],
      "metadata": {
        "colab": {
          "base_uri": "https://localhost:8080/"
        },
        "id": "W-M8oopL4YBi",
        "outputId": "87f970d4-6000-4b9e-8f5d-6c85ab2afb2a"
      },
      "execution_count": 7,
      "outputs": [
        {
          "output_type": "execute_result",
          "data": {
            "text/plain": [
              "False"
            ]
          },
          "metadata": {},
          "execution_count": 7
        }
      ]
    }
  ]
}